{
 "cells": [
  {
   "cell_type": "markdown",
   "id": "dde25175",
   "metadata": {},
   "source": [
    "### Imports"
   ]
  },
  {
   "cell_type": "code",
   "execution_count": 1,
   "id": "06d133cb",
   "metadata": {},
   "outputs": [],
   "source": [
    "# Import Modules\n",
    "import pandas as pd\n",
    "import numpy as np\n",
    "import matplotlib.pyplot as plt\n",
    "import seaborn as sns\n",
    "import datetime"
   ]
  },
  {
   "cell_type": "markdown",
   "id": "dbdf3fff",
   "metadata": {},
   "source": [
    "### Load Data and Preprocessing"
   ]
  },
  {
   "cell_type": "code",
   "execution_count": 2,
   "id": "097c7bef",
   "metadata": {},
   "outputs": [],
   "source": [
    "# load data in dataframe\n",
    "data = pd.read_csv('bq-results-20210629-101917-ms96hv1008ic.csv', dtype = {\"lock_postal_code\": str})"
   ]
  },
  {
   "cell_type": "code",
   "execution_count": 3,
   "id": "bc04ce01",
   "metadata": {},
   "outputs": [
    {
     "name": "stdout",
     "output_type": "stream",
     "text": [
      "Shape:  (114852, 21)\n"
     ]
    }
   ],
   "source": [
    "print('Shape: ' ,data.shape)"
   ]
  },
  {
   "cell_type": "code",
   "execution_count": 4,
   "id": "1369a0e6",
   "metadata": {},
   "outputs": [
    {
     "data": {
      "text/html": [
       "<div>\n",
       "<style scoped>\n",
       "    .dataframe tbody tr th:only-of-type {\n",
       "        vertical-align: middle;\n",
       "    }\n",
       "\n",
       "    .dataframe tbody tr th {\n",
       "        vertical-align: top;\n",
       "    }\n",
       "\n",
       "    .dataframe thead th {\n",
       "        text-align: right;\n",
       "    }\n",
       "</style>\n",
       "<table border=\"1\" class=\"dataframe\">\n",
       "  <thead>\n",
       "    <tr style=\"text-align: right;\">\n",
       "      <th></th>\n",
       "      <th>action</th>\n",
       "      <th>key_id</th>\n",
       "      <th>operate_ms</th>\n",
       "      <th>timestamp</th>\n",
       "      <th>lock_id</th>\n",
       "      <th>vendor_lock_name</th>\n",
       "      <th>vendor_lock_type</th>\n",
       "      <th>lock_postal_code</th>\n",
       "      <th>lock_country_iso</th>\n",
       "      <th>user_id</th>\n",
       "      <th>...</th>\n",
       "      <th>key_creator_id</th>\n",
       "      <th>key_creator_country_iso</th>\n",
       "      <th>device_id</th>\n",
       "      <th>device_platform</th>\n",
       "      <th>device_model</th>\n",
       "      <th>device_locale</th>\n",
       "      <th>device_app_version</th>\n",
       "      <th>lock_holder_id</th>\n",
       "      <th>lock_holder_type</th>\n",
       "      <th>lock_holder_country_iso</th>\n",
       "    </tr>\n",
       "  </thead>\n",
       "  <tbody>\n",
       "    <tr>\n",
       "      <th>0</th>\n",
       "      <td>locked</td>\n",
       "      <td>48fc13b5f3</td>\n",
       "      <td>4145.0</td>\n",
       "      <td>2021-05-26 15:30:07.127 UTC</td>\n",
       "      <td>8e5a08a742</td>\n",
       "      <td>danalock</td>\n",
       "      <td>danalock</td>\n",
       "      <td>NaN</td>\n",
       "      <td>NaN</td>\n",
       "      <td>b967f27244</td>\n",
       "      <td>...</td>\n",
       "      <td>NaN</td>\n",
       "      <td>NaN</td>\n",
       "      <td>1db3db1d4c</td>\n",
       "      <td>android</td>\n",
       "      <td>SM-A515F</td>\n",
       "      <td>nb_NO</td>\n",
       "      <td>Unloc 4.6.9 (1036)</td>\n",
       "      <td>e183b94f37</td>\n",
       "      <td>office</td>\n",
       "      <td>NO</td>\n",
       "    </tr>\n",
       "    <tr>\n",
       "      <th>1</th>\n",
       "      <td>unlocked</td>\n",
       "      <td>48fc13b5f3</td>\n",
       "      <td>3848.0</td>\n",
       "      <td>2021-05-26 15:11:16.911 UTC</td>\n",
       "      <td>8e5a08a742</td>\n",
       "      <td>danalock</td>\n",
       "      <td>danalock</td>\n",
       "      <td>NaN</td>\n",
       "      <td>NaN</td>\n",
       "      <td>b967f27244</td>\n",
       "      <td>...</td>\n",
       "      <td>NaN</td>\n",
       "      <td>NaN</td>\n",
       "      <td>1db3db1d4c</td>\n",
       "      <td>android</td>\n",
       "      <td>SM-A515F</td>\n",
       "      <td>nb_NO</td>\n",
       "      <td>Unloc 4.6.9 (1036)</td>\n",
       "      <td>e183b94f37</td>\n",
       "      <td>office</td>\n",
       "      <td>NO</td>\n",
       "    </tr>\n",
       "    <tr>\n",
       "      <th>2</th>\n",
       "      <td>unlocked</td>\n",
       "      <td>5f12e06341</td>\n",
       "      <td>3602.0</td>\n",
       "      <td>2021-05-27 14:51:41.206 UTC</td>\n",
       "      <td>878dc4b8af</td>\n",
       "      <td>danalock</td>\n",
       "      <td>danalock</td>\n",
       "      <td>NaN</td>\n",
       "      <td>NaN</td>\n",
       "      <td>23cd975f47</td>\n",
       "      <td>...</td>\n",
       "      <td>d902fbdbc1</td>\n",
       "      <td>NO</td>\n",
       "      <td>790fcdf47e</td>\n",
       "      <td>iOS</td>\n",
       "      <td>iPhone</td>\n",
       "      <td>nb_NO</td>\n",
       "      <td>Unloc 4.6.4 (988)</td>\n",
       "      <td>NaN</td>\n",
       "      <td>NaN</td>\n",
       "      <td>NaN</td>\n",
       "    </tr>\n",
       "    <tr>\n",
       "      <th>3</th>\n",
       "      <td>locked</td>\n",
       "      <td>5f12e06341</td>\n",
       "      <td>4605.0</td>\n",
       "      <td>2021-05-28 12:21:03.818 UTC</td>\n",
       "      <td>878dc4b8af</td>\n",
       "      <td>danalock</td>\n",
       "      <td>danalock</td>\n",
       "      <td>NaN</td>\n",
       "      <td>NaN</td>\n",
       "      <td>23cd975f47</td>\n",
       "      <td>...</td>\n",
       "      <td>d902fbdbc1</td>\n",
       "      <td>NO</td>\n",
       "      <td>790fcdf47e</td>\n",
       "      <td>iOS</td>\n",
       "      <td>iPhone</td>\n",
       "      <td>nb_NO</td>\n",
       "      <td>Unloc 4.6.4 (988)</td>\n",
       "      <td>NaN</td>\n",
       "      <td>NaN</td>\n",
       "      <td>NaN</td>\n",
       "    </tr>\n",
       "    <tr>\n",
       "      <th>4</th>\n",
       "      <td>locked</td>\n",
       "      <td>c6aab7e2b7</td>\n",
       "      <td>4965.0</td>\n",
       "      <td>2021-05-28 13:35:06.711 UTC</td>\n",
       "      <td>878dc4b8af</td>\n",
       "      <td>danalock</td>\n",
       "      <td>danalock</td>\n",
       "      <td>NaN</td>\n",
       "      <td>NaN</td>\n",
       "      <td>d902fbdbc1</td>\n",
       "      <td>...</td>\n",
       "      <td>NaN</td>\n",
       "      <td>NaN</td>\n",
       "      <td>f1884b7332</td>\n",
       "      <td>iOS</td>\n",
       "      <td>iPhone</td>\n",
       "      <td>nb_NO</td>\n",
       "      <td>Unloc 4.6.4 (988)</td>\n",
       "      <td>NaN</td>\n",
       "      <td>NaN</td>\n",
       "      <td>NaN</td>\n",
       "    </tr>\n",
       "  </tbody>\n",
       "</table>\n",
       "<p>5 rows × 21 columns</p>\n",
       "</div>"
      ],
      "text/plain": [
       "     action      key_id  operate_ms                    timestamp     lock_id  \\\n",
       "0    locked  48fc13b5f3      4145.0  2021-05-26 15:30:07.127 UTC  8e5a08a742   \n",
       "1  unlocked  48fc13b5f3      3848.0  2021-05-26 15:11:16.911 UTC  8e5a08a742   \n",
       "2  unlocked  5f12e06341      3602.0  2021-05-27 14:51:41.206 UTC  878dc4b8af   \n",
       "3    locked  5f12e06341      4605.0  2021-05-28 12:21:03.818 UTC  878dc4b8af   \n",
       "4    locked  c6aab7e2b7      4965.0  2021-05-28 13:35:06.711 UTC  878dc4b8af   \n",
       "\n",
       "  vendor_lock_name vendor_lock_type lock_postal_code lock_country_iso  \\\n",
       "0         danalock         danalock              NaN              NaN   \n",
       "1         danalock         danalock              NaN              NaN   \n",
       "2         danalock         danalock              NaN              NaN   \n",
       "3         danalock         danalock              NaN              NaN   \n",
       "4         danalock         danalock              NaN              NaN   \n",
       "\n",
       "      user_id  ... key_creator_id key_creator_country_iso   device_id  \\\n",
       "0  b967f27244  ...            NaN                     NaN  1db3db1d4c   \n",
       "1  b967f27244  ...            NaN                     NaN  1db3db1d4c   \n",
       "2  23cd975f47  ...     d902fbdbc1                      NO  790fcdf47e   \n",
       "3  23cd975f47  ...     d902fbdbc1                      NO  790fcdf47e   \n",
       "4  d902fbdbc1  ...            NaN                     NaN  f1884b7332   \n",
       "\n",
       "  device_platform device_model device_locale  device_app_version  \\\n",
       "0         android     SM-A515F         nb_NO  Unloc 4.6.9 (1036)   \n",
       "1         android     SM-A515F         nb_NO  Unloc 4.6.9 (1036)   \n",
       "2             iOS       iPhone         nb_NO   Unloc 4.6.4 (988)   \n",
       "3             iOS       iPhone         nb_NO   Unloc 4.6.4 (988)   \n",
       "4             iOS       iPhone         nb_NO   Unloc 4.6.4 (988)   \n",
       "\n",
       "  lock_holder_id lock_holder_type lock_holder_country_iso  \n",
       "0     e183b94f37           office                      NO  \n",
       "1     e183b94f37           office                      NO  \n",
       "2            NaN              NaN                     NaN  \n",
       "3            NaN              NaN                     NaN  \n",
       "4            NaN              NaN                     NaN  \n",
       "\n",
       "[5 rows x 21 columns]"
      ]
     },
     "execution_count": 4,
     "metadata": {},
     "output_type": "execute_result"
    }
   ],
   "source": [
    "data.head()"
   ]
  },
  {
   "cell_type": "code",
   "execution_count": 5,
   "id": "62f97bd5",
   "metadata": {},
   "outputs": [
    {
     "data": {
      "text/plain": [
       "action                         0\n",
       "key_id                         0\n",
       "operate_ms                  1259\n",
       "timestamp                      0\n",
       "lock_id                        0\n",
       "vendor_lock_name            2562\n",
       "vendor_lock_type            2981\n",
       "lock_postal_code           41664\n",
       "lock_country_iso           41648\n",
       "user_id                     1062\n",
       "user_country_iso            1062\n",
       "key_creator_id             75784\n",
       "key_creator_country_iso    75784\n",
       "device_id                   1062\n",
       "device_platform             1062\n",
       "device_model                1062\n",
       "device_locale               1062\n",
       "device_app_version          1062\n",
       "lock_holder_id             21723\n",
       "lock_holder_type           21723\n",
       "lock_holder_country_iso    21723\n",
       "dtype: int64"
      ]
     },
     "execution_count": 5,
     "metadata": {},
     "output_type": "execute_result"
    }
   ],
   "source": [
    "data.isna().sum()"
   ]
  },
  {
   "cell_type": "markdown",
   "id": "2360fbb3",
   "metadata": {},
   "source": [
    "data.dtypes"
   ]
  },
  {
   "cell_type": "code",
   "execution_count": 6,
   "id": "3ca9e207",
   "metadata": {},
   "outputs": [],
   "source": [
    "# Convert UTC string timestamp to datetime\n",
    "data['timestamp'] = pd.to_datetime(data['timestamp']).dt.strftime('%Y-%m-%d %H:%M:%S')\n",
    "data['timestamp'] = pd.to_datetime(data['timestamp'])"
   ]
  },
  {
   "cell_type": "code",
   "execution_count": 7,
   "id": "a1cf11c5",
   "metadata": {},
   "outputs": [
    {
     "data": {
      "text/html": [
       "<div>\n",
       "<style scoped>\n",
       "    .dataframe tbody tr th:only-of-type {\n",
       "        vertical-align: middle;\n",
       "    }\n",
       "\n",
       "    .dataframe tbody tr th {\n",
       "        vertical-align: top;\n",
       "    }\n",
       "\n",
       "    .dataframe thead th {\n",
       "        text-align: right;\n",
       "    }\n",
       "</style>\n",
       "<table border=\"1\" class=\"dataframe\">\n",
       "  <thead>\n",
       "    <tr style=\"text-align: right;\">\n",
       "      <th></th>\n",
       "      <th>action</th>\n",
       "      <th>key_id</th>\n",
       "      <th>operate_ms</th>\n",
       "      <th>timestamp</th>\n",
       "      <th>lock_id</th>\n",
       "      <th>vendor_lock_name</th>\n",
       "      <th>vendor_lock_type</th>\n",
       "      <th>lock_postal_code</th>\n",
       "      <th>lock_country_iso</th>\n",
       "      <th>user_id</th>\n",
       "      <th>...</th>\n",
       "      <th>key_creator_id</th>\n",
       "      <th>key_creator_country_iso</th>\n",
       "      <th>device_id</th>\n",
       "      <th>device_platform</th>\n",
       "      <th>device_model</th>\n",
       "      <th>device_locale</th>\n",
       "      <th>device_app_version</th>\n",
       "      <th>lock_holder_id</th>\n",
       "      <th>lock_holder_type</th>\n",
       "      <th>lock_holder_country_iso</th>\n",
       "    </tr>\n",
       "  </thead>\n",
       "  <tbody>\n",
       "    <tr>\n",
       "      <th>0</th>\n",
       "      <td>locked</td>\n",
       "      <td>48fc13b5f3</td>\n",
       "      <td>4145.0</td>\n",
       "      <td>2021-05-26 15:30:07</td>\n",
       "      <td>8e5a08a742</td>\n",
       "      <td>danalock</td>\n",
       "      <td>danalock</td>\n",
       "      <td>NaN</td>\n",
       "      <td>NaN</td>\n",
       "      <td>b967f27244</td>\n",
       "      <td>...</td>\n",
       "      <td>NaN</td>\n",
       "      <td>NaN</td>\n",
       "      <td>1db3db1d4c</td>\n",
       "      <td>android</td>\n",
       "      <td>SM-A515F</td>\n",
       "      <td>nb_NO</td>\n",
       "      <td>Unloc 4.6.9 (1036)</td>\n",
       "      <td>e183b94f37</td>\n",
       "      <td>office</td>\n",
       "      <td>NO</td>\n",
       "    </tr>\n",
       "    <tr>\n",
       "      <th>1</th>\n",
       "      <td>unlocked</td>\n",
       "      <td>48fc13b5f3</td>\n",
       "      <td>3848.0</td>\n",
       "      <td>2021-05-26 15:11:16</td>\n",
       "      <td>8e5a08a742</td>\n",
       "      <td>danalock</td>\n",
       "      <td>danalock</td>\n",
       "      <td>NaN</td>\n",
       "      <td>NaN</td>\n",
       "      <td>b967f27244</td>\n",
       "      <td>...</td>\n",
       "      <td>NaN</td>\n",
       "      <td>NaN</td>\n",
       "      <td>1db3db1d4c</td>\n",
       "      <td>android</td>\n",
       "      <td>SM-A515F</td>\n",
       "      <td>nb_NO</td>\n",
       "      <td>Unloc 4.6.9 (1036)</td>\n",
       "      <td>e183b94f37</td>\n",
       "      <td>office</td>\n",
       "      <td>NO</td>\n",
       "    </tr>\n",
       "    <tr>\n",
       "      <th>2</th>\n",
       "      <td>unlocked</td>\n",
       "      <td>5f12e06341</td>\n",
       "      <td>3602.0</td>\n",
       "      <td>2021-05-27 14:51:41</td>\n",
       "      <td>878dc4b8af</td>\n",
       "      <td>danalock</td>\n",
       "      <td>danalock</td>\n",
       "      <td>NaN</td>\n",
       "      <td>NaN</td>\n",
       "      <td>23cd975f47</td>\n",
       "      <td>...</td>\n",
       "      <td>d902fbdbc1</td>\n",
       "      <td>NO</td>\n",
       "      <td>790fcdf47e</td>\n",
       "      <td>iOS</td>\n",
       "      <td>iPhone</td>\n",
       "      <td>nb_NO</td>\n",
       "      <td>Unloc 4.6.4 (988)</td>\n",
       "      <td>NaN</td>\n",
       "      <td>NaN</td>\n",
       "      <td>NaN</td>\n",
       "    </tr>\n",
       "    <tr>\n",
       "      <th>3</th>\n",
       "      <td>locked</td>\n",
       "      <td>5f12e06341</td>\n",
       "      <td>4605.0</td>\n",
       "      <td>2021-05-28 12:21:03</td>\n",
       "      <td>878dc4b8af</td>\n",
       "      <td>danalock</td>\n",
       "      <td>danalock</td>\n",
       "      <td>NaN</td>\n",
       "      <td>NaN</td>\n",
       "      <td>23cd975f47</td>\n",
       "      <td>...</td>\n",
       "      <td>d902fbdbc1</td>\n",
       "      <td>NO</td>\n",
       "      <td>790fcdf47e</td>\n",
       "      <td>iOS</td>\n",
       "      <td>iPhone</td>\n",
       "      <td>nb_NO</td>\n",
       "      <td>Unloc 4.6.4 (988)</td>\n",
       "      <td>NaN</td>\n",
       "      <td>NaN</td>\n",
       "      <td>NaN</td>\n",
       "    </tr>\n",
       "    <tr>\n",
       "      <th>4</th>\n",
       "      <td>locked</td>\n",
       "      <td>c6aab7e2b7</td>\n",
       "      <td>4965.0</td>\n",
       "      <td>2021-05-28 13:35:06</td>\n",
       "      <td>878dc4b8af</td>\n",
       "      <td>danalock</td>\n",
       "      <td>danalock</td>\n",
       "      <td>NaN</td>\n",
       "      <td>NaN</td>\n",
       "      <td>d902fbdbc1</td>\n",
       "      <td>...</td>\n",
       "      <td>NaN</td>\n",
       "      <td>NaN</td>\n",
       "      <td>f1884b7332</td>\n",
       "      <td>iOS</td>\n",
       "      <td>iPhone</td>\n",
       "      <td>nb_NO</td>\n",
       "      <td>Unloc 4.6.4 (988)</td>\n",
       "      <td>NaN</td>\n",
       "      <td>NaN</td>\n",
       "      <td>NaN</td>\n",
       "    </tr>\n",
       "  </tbody>\n",
       "</table>\n",
       "<p>5 rows × 21 columns</p>\n",
       "</div>"
      ],
      "text/plain": [
       "     action      key_id  operate_ms           timestamp     lock_id  \\\n",
       "0    locked  48fc13b5f3      4145.0 2021-05-26 15:30:07  8e5a08a742   \n",
       "1  unlocked  48fc13b5f3      3848.0 2021-05-26 15:11:16  8e5a08a742   \n",
       "2  unlocked  5f12e06341      3602.0 2021-05-27 14:51:41  878dc4b8af   \n",
       "3    locked  5f12e06341      4605.0 2021-05-28 12:21:03  878dc4b8af   \n",
       "4    locked  c6aab7e2b7      4965.0 2021-05-28 13:35:06  878dc4b8af   \n",
       "\n",
       "  vendor_lock_name vendor_lock_type lock_postal_code lock_country_iso  \\\n",
       "0         danalock         danalock              NaN              NaN   \n",
       "1         danalock         danalock              NaN              NaN   \n",
       "2         danalock         danalock              NaN              NaN   \n",
       "3         danalock         danalock              NaN              NaN   \n",
       "4         danalock         danalock              NaN              NaN   \n",
       "\n",
       "      user_id  ... key_creator_id key_creator_country_iso   device_id  \\\n",
       "0  b967f27244  ...            NaN                     NaN  1db3db1d4c   \n",
       "1  b967f27244  ...            NaN                     NaN  1db3db1d4c   \n",
       "2  23cd975f47  ...     d902fbdbc1                      NO  790fcdf47e   \n",
       "3  23cd975f47  ...     d902fbdbc1                      NO  790fcdf47e   \n",
       "4  d902fbdbc1  ...            NaN                     NaN  f1884b7332   \n",
       "\n",
       "  device_platform device_model device_locale  device_app_version  \\\n",
       "0         android     SM-A515F         nb_NO  Unloc 4.6.9 (1036)   \n",
       "1         android     SM-A515F         nb_NO  Unloc 4.6.9 (1036)   \n",
       "2             iOS       iPhone         nb_NO   Unloc 4.6.4 (988)   \n",
       "3             iOS       iPhone         nb_NO   Unloc 4.6.4 (988)   \n",
       "4             iOS       iPhone         nb_NO   Unloc 4.6.4 (988)   \n",
       "\n",
       "  lock_holder_id lock_holder_type lock_holder_country_iso  \n",
       "0     e183b94f37           office                      NO  \n",
       "1     e183b94f37           office                      NO  \n",
       "2            NaN              NaN                     NaN  \n",
       "3            NaN              NaN                     NaN  \n",
       "4            NaN              NaN                     NaN  \n",
       "\n",
       "[5 rows x 21 columns]"
      ]
     },
     "execution_count": 7,
     "metadata": {},
     "output_type": "execute_result"
    }
   ],
   "source": [
    "data.head()"
   ]
  },
  {
   "cell_type": "markdown",
   "id": "acb96cc7",
   "metadata": {},
   "source": [
    "### Analysis and Visualization"
   ]
  },
  {
   "cell_type": "code",
   "execution_count": 8,
   "id": "653f04ed",
   "metadata": {},
   "outputs": [],
   "source": [
    "actions = data['action'].value_counts()"
   ]
  },
  {
   "cell_type": "code",
   "execution_count": 9,
   "id": "4e1d2fe6",
   "metadata": {},
   "outputs": [
    {
     "data": {
      "text/plain": [
       "unlocked      103432\n",
       "locked         11224\n",
       "viewedCode       196\n",
       "Name: action, dtype: int64"
      ]
     },
     "execution_count": 9,
     "metadata": {},
     "output_type": "execute_result"
    }
   ],
   "source": [
    "actions"
   ]
  },
  {
   "cell_type": "code",
   "execution_count": 10,
   "id": "d72a897c",
   "metadata": {},
   "outputs": [
    {
     "name": "stdout",
     "output_type": "stream",
     "text": [
      "Unlocked Percentage: 0.9005676871103682\n",
      "Locked Percentage: 0.0977257688155191\n",
      "ViewedCode Percentage: 0.0017065440741127712\n"
     ]
    }
   ],
   "source": [
    "print('Unlocked Percentage:', actions[0]/len(data))\n",
    "print('Locked Percentage:', actions[1]/len(data))\n",
    "print('ViewedCode Percentage:', actions[2]/len(data))"
   ]
  },
  {
   "cell_type": "code",
   "execution_count": 11,
   "id": "5afe26de",
   "metadata": {},
   "outputs": [
    {
     "name": "stdout",
     "output_type": "stream",
     "text": [
      "Total keys used: 17079\n"
     ]
    }
   ],
   "source": [
    "print('Total keys used:', len(data['key_id'].value_counts()))"
   ]
  },
  {
   "cell_type": "code",
   "execution_count": 13,
   "id": "6cf81a2a",
   "metadata": {},
   "outputs": [
    {
     "name": "stdout",
     "output_type": "stream",
     "text": [
      "Total locks used: 2998\n"
     ]
    }
   ],
   "source": [
    "print('Total locks used:', len(data['lock_id'].value_counts()))"
   ]
  },
  {
   "cell_type": "code",
   "execution_count": 14,
   "id": "fcb1c855",
   "metadata": {},
   "outputs": [],
   "source": [
    "# Group by Date and get count of records\n",
    "count_by_dates = data.groupby([data['timestamp'].dt.date])['action'].size().reset_index(name='Count')"
   ]
  },
  {
   "cell_type": "code",
   "execution_count": 15,
   "id": "0801037a",
   "metadata": {},
   "outputs": [
    {
     "data": {
      "text/html": [
       "<div>\n",
       "<style scoped>\n",
       "    .dataframe tbody tr th:only-of-type {\n",
       "        vertical-align: middle;\n",
       "    }\n",
       "\n",
       "    .dataframe tbody tr th {\n",
       "        vertical-align: top;\n",
       "    }\n",
       "\n",
       "    .dataframe thead th {\n",
       "        text-align: right;\n",
       "    }\n",
       "</style>\n",
       "<table border=\"1\" class=\"dataframe\">\n",
       "  <thead>\n",
       "    <tr style=\"text-align: right;\">\n",
       "      <th></th>\n",
       "      <th>timestamp</th>\n",
       "      <th>Count</th>\n",
       "    </tr>\n",
       "  </thead>\n",
       "  <tbody>\n",
       "    <tr>\n",
       "      <th>0</th>\n",
       "      <td>2021-05-01</td>\n",
       "      <td>3313</td>\n",
       "    </tr>\n",
       "    <tr>\n",
       "      <th>1</th>\n",
       "      <td>2021-05-02</td>\n",
       "      <td>3494</td>\n",
       "    </tr>\n",
       "    <tr>\n",
       "      <th>2</th>\n",
       "      <td>2021-05-03</td>\n",
       "      <td>4737</td>\n",
       "    </tr>\n",
       "    <tr>\n",
       "      <th>3</th>\n",
       "      <td>2021-05-04</td>\n",
       "      <td>4796</td>\n",
       "    </tr>\n",
       "    <tr>\n",
       "      <th>4</th>\n",
       "      <td>2021-05-05</td>\n",
       "      <td>4539</td>\n",
       "    </tr>\n",
       "    <tr>\n",
       "      <th>5</th>\n",
       "      <td>2021-05-06</td>\n",
       "      <td>5419</td>\n",
       "    </tr>\n",
       "    <tr>\n",
       "      <th>6</th>\n",
       "      <td>2021-05-07</td>\n",
       "      <td>5180</td>\n",
       "    </tr>\n",
       "    <tr>\n",
       "      <th>7</th>\n",
       "      <td>2021-05-08</td>\n",
       "      <td>4254</td>\n",
       "    </tr>\n",
       "    <tr>\n",
       "      <th>8</th>\n",
       "      <td>2021-05-09</td>\n",
       "      <td>2950</td>\n",
       "    </tr>\n",
       "    <tr>\n",
       "      <th>9</th>\n",
       "      <td>2021-05-10</td>\n",
       "      <td>4550</td>\n",
       "    </tr>\n",
       "    <tr>\n",
       "      <th>10</th>\n",
       "      <td>2021-05-11</td>\n",
       "      <td>5441</td>\n",
       "    </tr>\n",
       "    <tr>\n",
       "      <th>11</th>\n",
       "      <td>2021-05-12</td>\n",
       "      <td>5417</td>\n",
       "    </tr>\n",
       "    <tr>\n",
       "      <th>12</th>\n",
       "      <td>2021-05-13</td>\n",
       "      <td>3681</td>\n",
       "    </tr>\n",
       "    <tr>\n",
       "      <th>13</th>\n",
       "      <td>2021-05-14</td>\n",
       "      <td>4558</td>\n",
       "    </tr>\n",
       "    <tr>\n",
       "      <th>14</th>\n",
       "      <td>2021-05-15</td>\n",
       "      <td>3617</td>\n",
       "    </tr>\n",
       "    <tr>\n",
       "      <th>15</th>\n",
       "      <td>2021-05-16</td>\n",
       "      <td>3660</td>\n",
       "    </tr>\n",
       "    <tr>\n",
       "      <th>16</th>\n",
       "      <td>2021-05-17</td>\n",
       "      <td>3184</td>\n",
       "    </tr>\n",
       "    <tr>\n",
       "      <th>17</th>\n",
       "      <td>2021-05-18</td>\n",
       "      <td>5122</td>\n",
       "    </tr>\n",
       "    <tr>\n",
       "      <th>18</th>\n",
       "      <td>2021-05-19</td>\n",
       "      <td>5759</td>\n",
       "    </tr>\n",
       "    <tr>\n",
       "      <th>19</th>\n",
       "      <td>2021-05-20</td>\n",
       "      <td>4632</td>\n",
       "    </tr>\n",
       "    <tr>\n",
       "      <th>20</th>\n",
       "      <td>2021-05-21</td>\n",
       "      <td>3</td>\n",
       "    </tr>\n",
       "    <tr>\n",
       "      <th>21</th>\n",
       "      <td>2021-05-22</td>\n",
       "      <td>3</td>\n",
       "    </tr>\n",
       "    <tr>\n",
       "      <th>22</th>\n",
       "      <td>2021-05-23</td>\n",
       "      <td>1</td>\n",
       "    </tr>\n",
       "    <tr>\n",
       "      <th>23</th>\n",
       "      <td>2021-05-24</td>\n",
       "      <td>5</td>\n",
       "    </tr>\n",
       "    <tr>\n",
       "      <th>24</th>\n",
       "      <td>2021-05-25</td>\n",
       "      <td>9</td>\n",
       "    </tr>\n",
       "    <tr>\n",
       "      <th>25</th>\n",
       "      <td>2021-05-26</td>\n",
       "      <td>20</td>\n",
       "    </tr>\n",
       "    <tr>\n",
       "      <th>26</th>\n",
       "      <td>2021-05-27</td>\n",
       "      <td>4804</td>\n",
       "    </tr>\n",
       "    <tr>\n",
       "      <th>27</th>\n",
       "      <td>2021-05-28</td>\n",
       "      <td>6176</td>\n",
       "    </tr>\n",
       "    <tr>\n",
       "      <th>28</th>\n",
       "      <td>2021-05-29</td>\n",
       "      <td>4782</td>\n",
       "    </tr>\n",
       "    <tr>\n",
       "      <th>29</th>\n",
       "      <td>2021-05-30</td>\n",
       "      <td>4351</td>\n",
       "    </tr>\n",
       "    <tr>\n",
       "      <th>30</th>\n",
       "      <td>2021-05-31</td>\n",
       "      <td>6395</td>\n",
       "    </tr>\n",
       "  </tbody>\n",
       "</table>\n",
       "</div>"
      ],
      "text/plain": [
       "     timestamp  Count\n",
       "0   2021-05-01   3313\n",
       "1   2021-05-02   3494\n",
       "2   2021-05-03   4737\n",
       "3   2021-05-04   4796\n",
       "4   2021-05-05   4539\n",
       "5   2021-05-06   5419\n",
       "6   2021-05-07   5180\n",
       "7   2021-05-08   4254\n",
       "8   2021-05-09   2950\n",
       "9   2021-05-10   4550\n",
       "10  2021-05-11   5441\n",
       "11  2021-05-12   5417\n",
       "12  2021-05-13   3681\n",
       "13  2021-05-14   4558\n",
       "14  2021-05-15   3617\n",
       "15  2021-05-16   3660\n",
       "16  2021-05-17   3184\n",
       "17  2021-05-18   5122\n",
       "18  2021-05-19   5759\n",
       "19  2021-05-20   4632\n",
       "20  2021-05-21      3\n",
       "21  2021-05-22      3\n",
       "22  2021-05-23      1\n",
       "23  2021-05-24      5\n",
       "24  2021-05-25      9\n",
       "25  2021-05-26     20\n",
       "26  2021-05-27   4804\n",
       "27  2021-05-28   6176\n",
       "28  2021-05-29   4782\n",
       "29  2021-05-30   4351\n",
       "30  2021-05-31   6395"
      ]
     },
     "execution_count": 15,
     "metadata": {},
     "output_type": "execute_result"
    }
   ],
   "source": [
    "count_by_dates"
   ]
  },
  {
   "cell_type": "code",
   "execution_count": 16,
   "id": "bdbdfe83",
   "metadata": {},
   "outputs": [
    {
     "data": {
      "image/png": "[encoded data removed]",
      "text/plain": [
       "<Figure size 1152x720 with 1 Axes>"
      ]
     },
     "metadata": {
      "needs_background": "light"
     },
     "output_type": "display_data"
    }
   ],
   "source": [
    "# Plot Barplot\n",
    "count_by_dates['timestamp'] = pd.to_datetime(count_by_dates['timestamp'])\n",
    "plt.figure(figsize=(16,10))\n",
    "sns.set_style(\"darkgrid\", {\"axes.facecolor\": \".9\"})\n",
    "all_dates = sns.barplot(x = count_by_dates['timestamp'].dt.date, y=count_by_dates['Count'], data = count_by_dates, color=\"cornflowerblue\")\n",
    "plt.xticks(rotation=90,horizontalalignment='right',fontweight='light',fontsize = 20)\n",
    "plt.yticks(fontsize = 18)\n",
    "plt.xlabel('Dates',fontsize = 18)\n",
    "plt.ylabel('Actions Per Date',fontsize = 18)\n",
    "plt.show()\n",
    "all_dates.figure.savefig('All_Dates.png')"
   ]
  },
  {
   "cell_type": "code",
   "execution_count": 17,
   "id": "3f04eb07",
   "metadata": {},
   "outputs": [],
   "source": [
    "# Drop Outliers\n",
    "count_by_dates = count_by_dates.drop(count_by_dates[count_by_dates.Count < 30].index)"
   ]
  },
  {
   "cell_type": "code",
   "execution_count": 18,
   "id": "7444e355",
   "metadata": {},
   "outputs": [
    {
     "data": {
      "image/png": "[encoded data removed]",
      "text/plain": [
       "<Figure size 1152x720 with 1 Axes>"
      ]
     },
     "metadata": {},
     "output_type": "display_data"
    }
   ],
   "source": [
    "# Plot Barplot\n",
    "plt.figure(figsize=(16,10))\n",
    "sns.set_style(\"darkgrid\", {\"axes.facecolor\": \".9\"})\n",
    "all_dates_filtered = sns.barplot(x = count_by_dates['timestamp'].dt.date, y=count_by_dates['Count'], data = count_by_dates, color=\"cornflowerblue\")\n",
    "plt.xticks(rotation=90,horizontalalignment='right',fontweight='light', fontsize = 20)\n",
    "plt.yticks(fontsize = 18)\n",
    "plt.xlabel('Dates',fontsize = 18)\n",
    "plt.ylabel('Actions Per Date',fontsize = 18)\n",
    "plt.show()\n",
    "all_dates_filtered.figure.savefig('Dates_Filtered.png')"
   ]
  },
  {
   "cell_type": "code",
   "execution_count": 19,
   "id": "858b3c9e",
   "metadata": {},
   "outputs": [],
   "source": [
    "# Group by week days and get count of records\n",
    "count_by_week_days = count_by_dates.groupby(count_by_dates['timestamp'].dt.day_name()).sum()"
   ]
  },
  {
   "cell_type": "code",
   "execution_count": 20,
   "id": "2b7122a5",
   "metadata": {},
   "outputs": [],
   "source": [
    "# Day Name with dates\n",
    "count_by_dates['Days'] = count_by_dates['timestamp'].dt.day_name()"
   ]
  },
  {
   "cell_type": "code",
   "execution_count": 21,
   "id": "babc4d1f",
   "metadata": {},
   "outputs": [
    {
     "data": {
      "text/html": [
       "<div>\n",
       "<style scoped>\n",
       "    .dataframe tbody tr th:only-of-type {\n",
       "        vertical-align: middle;\n",
       "    }\n",
       "\n",
       "    .dataframe tbody tr th {\n",
       "        vertical-align: top;\n",
       "    }\n",
       "\n",
       "    .dataframe thead th {\n",
       "        text-align: right;\n",
       "    }\n",
       "</style>\n",
       "<table border=\"1\" class=\"dataframe\">\n",
       "  <thead>\n",
       "    <tr style=\"text-align: right;\">\n",
       "      <th></th>\n",
       "      <th>timestamp</th>\n",
       "      <th>Count</th>\n",
       "      <th>Days</th>\n",
       "    </tr>\n",
       "  </thead>\n",
       "  <tbody>\n",
       "    <tr>\n",
       "      <th>0</th>\n",
       "      <td>2021-05-01</td>\n",
       "      <td>3313</td>\n",
       "      <td>Saturday</td>\n",
       "    </tr>\n",
       "    <tr>\n",
       "      <th>1</th>\n",
       "      <td>2021-05-02</td>\n",
       "      <td>3494</td>\n",
       "      <td>Sunday</td>\n",
       "    </tr>\n",
       "    <tr>\n",
       "      <th>2</th>\n",
       "      <td>2021-05-03</td>\n",
       "      <td>4737</td>\n",
       "      <td>Monday</td>\n",
       "    </tr>\n",
       "    <tr>\n",
       "      <th>3</th>\n",
       "      <td>2021-05-04</td>\n",
       "      <td>4796</td>\n",
       "      <td>Tuesday</td>\n",
       "    </tr>\n",
       "    <tr>\n",
       "      <th>4</th>\n",
       "      <td>2021-05-05</td>\n",
       "      <td>4539</td>\n",
       "      <td>Wednesday</td>\n",
       "    </tr>\n",
       "    <tr>\n",
       "      <th>5</th>\n",
       "      <td>2021-05-06</td>\n",
       "      <td>5419</td>\n",
       "      <td>Thursday</td>\n",
       "    </tr>\n",
       "    <tr>\n",
       "      <th>6</th>\n",
       "      <td>2021-05-07</td>\n",
       "      <td>5180</td>\n",
       "      <td>Friday</td>\n",
       "    </tr>\n",
       "    <tr>\n",
       "      <th>7</th>\n",
       "      <td>2021-05-08</td>\n",
       "      <td>4254</td>\n",
       "      <td>Saturday</td>\n",
       "    </tr>\n",
       "    <tr>\n",
       "      <th>8</th>\n",
       "      <td>2021-05-09</td>\n",
       "      <td>2950</td>\n",
       "      <td>Sunday</td>\n",
       "    </tr>\n",
       "    <tr>\n",
       "      <th>9</th>\n",
       "      <td>2021-05-10</td>\n",
       "      <td>4550</td>\n",
       "      <td>Monday</td>\n",
       "    </tr>\n",
       "    <tr>\n",
       "      <th>10</th>\n",
       "      <td>2021-05-11</td>\n",
       "      <td>5441</td>\n",
       "      <td>Tuesday</td>\n",
       "    </tr>\n",
       "    <tr>\n",
       "      <th>11</th>\n",
       "      <td>2021-05-12</td>\n",
       "      <td>5417</td>\n",
       "      <td>Wednesday</td>\n",
       "    </tr>\n",
       "    <tr>\n",
       "      <th>12</th>\n",
       "      <td>2021-05-13</td>\n",
       "      <td>3681</td>\n",
       "      <td>Thursday</td>\n",
       "    </tr>\n",
       "    <tr>\n",
       "      <th>13</th>\n",
       "      <td>2021-05-14</td>\n",
       "      <td>4558</td>\n",
       "      <td>Friday</td>\n",
       "    </tr>\n",
       "    <tr>\n",
       "      <th>14</th>\n",
       "      <td>2021-05-15</td>\n",
       "      <td>3617</td>\n",
       "      <td>Saturday</td>\n",
       "    </tr>\n",
       "    <tr>\n",
       "      <th>15</th>\n",
       "      <td>2021-05-16</td>\n",
       "      <td>3660</td>\n",
       "      <td>Sunday</td>\n",
       "    </tr>\n",
       "    <tr>\n",
       "      <th>16</th>\n",
       "      <td>2021-05-17</td>\n",
       "      <td>3184</td>\n",
       "      <td>Monday</td>\n",
       "    </tr>\n",
       "    <tr>\n",
       "      <th>17</th>\n",
       "      <td>2021-05-18</td>\n",
       "      <td>5122</td>\n",
       "      <td>Tuesday</td>\n",
       "    </tr>\n",
       "    <tr>\n",
       "      <th>18</th>\n",
       "      <td>2021-05-19</td>\n",
       "      <td>5759</td>\n",
       "      <td>Wednesday</td>\n",
       "    </tr>\n",
       "    <tr>\n",
       "      <th>19</th>\n",
       "      <td>2021-05-20</td>\n",
       "      <td>4632</td>\n",
       "      <td>Thursday</td>\n",
       "    </tr>\n",
       "    <tr>\n",
       "      <th>26</th>\n",
       "      <td>2021-05-27</td>\n",
       "      <td>4804</td>\n",
       "      <td>Thursday</td>\n",
       "    </tr>\n",
       "    <tr>\n",
       "      <th>27</th>\n",
       "      <td>2021-05-28</td>\n",
       "      <td>6176</td>\n",
       "      <td>Friday</td>\n",
       "    </tr>\n",
       "    <tr>\n",
       "      <th>28</th>\n",
       "      <td>2021-05-29</td>\n",
       "      <td>4782</td>\n",
       "      <td>Saturday</td>\n",
       "    </tr>\n",
       "    <tr>\n",
       "      <th>29</th>\n",
       "      <td>2021-05-30</td>\n",
       "      <td>4351</td>\n",
       "      <td>Sunday</td>\n",
       "    </tr>\n",
       "    <tr>\n",
       "      <th>30</th>\n",
       "      <td>2021-05-31</td>\n",
       "      <td>6395</td>\n",
       "      <td>Monday</td>\n",
       "    </tr>\n",
       "  </tbody>\n",
       "</table>\n",
       "</div>"
      ],
      "text/plain": [
       "    timestamp  Count       Days\n",
       "0  2021-05-01   3313   Saturday\n",
       "1  2021-05-02   3494     Sunday\n",
       "2  2021-05-03   4737     Monday\n",
       "3  2021-05-04   4796    Tuesday\n",
       "4  2021-05-05   4539  Wednesday\n",
       "5  2021-05-06   5419   Thursday\n",
       "6  2021-05-07   5180     Friday\n",
       "7  2021-05-08   4254   Saturday\n",
       "8  2021-05-09   2950     Sunday\n",
       "9  2021-05-10   4550     Monday\n",
       "10 2021-05-11   5441    Tuesday\n",
       "11 2021-05-12   5417  Wednesday\n",
       "12 2021-05-13   3681   Thursday\n",
       "13 2021-05-14   4558     Friday\n",
       "14 2021-05-15   3617   Saturday\n",
       "15 2021-05-16   3660     Sunday\n",
       "16 2021-05-17   3184     Monday\n",
       "17 2021-05-18   5122    Tuesday\n",
       "18 2021-05-19   5759  Wednesday\n",
       "19 2021-05-20   4632   Thursday\n",
       "26 2021-05-27   4804   Thursday\n",
       "27 2021-05-28   6176     Friday\n",
       "28 2021-05-29   4782   Saturday\n",
       "29 2021-05-30   4351     Sunday\n",
       "30 2021-05-31   6395     Monday"
      ]
     },
     "execution_count": 21,
     "metadata": {},
     "output_type": "execute_result"
    }
   ],
   "source": [
    "count_by_dates"
   ]
  },
  {
   "cell_type": "code",
   "execution_count": 22,
   "id": "7164b35c",
   "metadata": {},
   "outputs": [],
   "source": [
    "days_counts = count_by_dates.Days.value_counts()"
   ]
  },
  {
   "cell_type": "code",
   "execution_count": 23,
   "id": "7d1886f6",
   "metadata": {},
   "outputs": [],
   "source": [
    "count_by_week_days['Number'] = [days_counts.loc[idx] for idx in count_by_week_days.index]"
   ]
  },
  {
   "cell_type": "code",
   "execution_count": 24,
   "id": "2e0ff657",
   "metadata": {},
   "outputs": [],
   "source": [
    "count_by_week_days['PerDay'] = count_by_week_days['Count']/count_by_week_days['Number']"
   ]
  },
  {
   "cell_type": "code",
   "execution_count": 25,
   "id": "abaf1500",
   "metadata": {},
   "outputs": [
    {
     "data": {
      "text/html": [
       "<div>\n",
       "<style scoped>\n",
       "    .dataframe tbody tr th:only-of-type {\n",
       "        vertical-align: middle;\n",
       "    }\n",
       "\n",
       "    .dataframe tbody tr th {\n",
       "        vertical-align: top;\n",
       "    }\n",
       "\n",
       "    .dataframe thead th {\n",
       "        text-align: right;\n",
       "    }\n",
       "</style>\n",
       "<table border=\"1\" class=\"dataframe\">\n",
       "  <thead>\n",
       "    <tr style=\"text-align: right;\">\n",
       "      <th></th>\n",
       "      <th>Count</th>\n",
       "      <th>Number</th>\n",
       "      <th>PerDay</th>\n",
       "    </tr>\n",
       "    <tr>\n",
       "      <th>timestamp</th>\n",
       "      <th></th>\n",
       "      <th></th>\n",
       "      <th></th>\n",
       "    </tr>\n",
       "  </thead>\n",
       "  <tbody>\n",
       "    <tr>\n",
       "      <th>Friday</th>\n",
       "      <td>15914</td>\n",
       "      <td>3</td>\n",
       "      <td>5304.666667</td>\n",
       "    </tr>\n",
       "    <tr>\n",
       "      <th>Monday</th>\n",
       "      <td>18866</td>\n",
       "      <td>4</td>\n",
       "      <td>4716.500000</td>\n",
       "    </tr>\n",
       "    <tr>\n",
       "      <th>Saturday</th>\n",
       "      <td>15966</td>\n",
       "      <td>4</td>\n",
       "      <td>3991.500000</td>\n",
       "    </tr>\n",
       "    <tr>\n",
       "      <th>Sunday</th>\n",
       "      <td>14455</td>\n",
       "      <td>4</td>\n",
       "      <td>3613.750000</td>\n",
       "    </tr>\n",
       "    <tr>\n",
       "      <th>Thursday</th>\n",
       "      <td>18536</td>\n",
       "      <td>4</td>\n",
       "      <td>4634.000000</td>\n",
       "    </tr>\n",
       "    <tr>\n",
       "      <th>Tuesday</th>\n",
       "      <td>15359</td>\n",
       "      <td>3</td>\n",
       "      <td>5119.666667</td>\n",
       "    </tr>\n",
       "    <tr>\n",
       "      <th>Wednesday</th>\n",
       "      <td>15715</td>\n",
       "      <td>3</td>\n",
       "      <td>5238.333333</td>\n",
       "    </tr>\n",
       "  </tbody>\n",
       "</table>\n",
       "</div>"
      ],
      "text/plain": [
       "           Count  Number       PerDay\n",
       "timestamp                            \n",
       "Friday     15914       3  5304.666667\n",
       "Monday     18866       4  4716.500000\n",
       "Saturday   15966       4  3991.500000\n",
       "Sunday     14455       4  3613.750000\n",
       "Thursday   18536       4  4634.000000\n",
       "Tuesday    15359       3  5119.666667\n",
       "Wednesday  15715       3  5238.333333"
      ]
     },
     "execution_count": 25,
     "metadata": {},
     "output_type": "execute_result"
    }
   ],
   "source": [
    "count_by_week_days"
   ]
  },
  {
   "cell_type": "code",
   "execution_count": 26,
   "id": "bd1cefb4",
   "metadata": {},
   "outputs": [],
   "source": [
    "# Sort Weekdays\n",
    "cats = [ 'Monday', 'Tuesday', 'Wednesday', 'Thursday', 'Friday', 'Saturday', 'Sunday']\n",
    "count_by_week_days = count_by_week_days.reindex(cats) "
   ]
  },
  {
   "cell_type": "code",
   "execution_count": 27,
   "id": "8c286c90",
   "metadata": {},
   "outputs": [
    {
     "data": {
      "image/png": "[encoded data removed]",
      "text/plain": [
       "<Figure size 1152x720 with 1 Axes>"
      ]
     },
     "metadata": {},
     "output_type": "display_data"
    }
   ],
   "source": [
    "# Plot bar plot for weekdays\n",
    "plt.figure(figsize=(16,10))\n",
    "sns.set_style(\"darkgrid\", {\"axes.facecolor\": \".9\"})\n",
    "perDay_plot = sns.barplot(y='PerDay', x=count_by_week_days['Count'].index, data=count_by_week_days)\n",
    "plt.xticks(rotation=45,horizontalalignment='right',fontweight='light', fontsize = 20)\n",
    "plt.yticks(fontsize = 18)\n",
    "plt.xlabel('Days',fontsize = 18)\n",
    "plt.ylabel('Actions Per Day',fontsize = 18)\n",
    "perDay_plot.figure.savefig('PerDay.png')"
   ]
  },
  {
   "cell_type": "code",
   "execution_count": 28,
   "id": "2e53ca64",
   "metadata": {},
   "outputs": [],
   "source": [
    "# Remove Outliers from Data\n",
    "data_filtered = data[(data['timestamp'].dt.date < datetime.date(2021,5,21)) | (data['timestamp'].dt.date > datetime.date(2021,5,26))]"
   ]
  },
  {
   "cell_type": "code",
   "execution_count": 29,
   "id": "38d139b0",
   "metadata": {},
   "outputs": [],
   "source": [
    "# Group by hour\n",
    "count_by_hour = data_filtered.groupby([data_filtered['timestamp'].dt.hour]).size().reset_index(name='Count')"
   ]
  },
  {
   "cell_type": "code",
   "execution_count": 30,
   "id": "5a1624ae",
   "metadata": {},
   "outputs": [
    {
     "data": {
      "text/html": [
       "<div>\n",
       "<style scoped>\n",
       "    .dataframe tbody tr th:only-of-type {\n",
       "        vertical-align: middle;\n",
       "    }\n",
       "\n",
       "    .dataframe tbody tr th {\n",
       "        vertical-align: top;\n",
       "    }\n",
       "\n",
       "    .dataframe thead th {\n",
       "        text-align: right;\n",
       "    }\n",
       "</style>\n",
       "<table border=\"1\" class=\"dataframe\">\n",
       "  <thead>\n",
       "    <tr style=\"text-align: right;\">\n",
       "      <th></th>\n",
       "      <th>timestamp</th>\n",
       "      <th>Count</th>\n",
       "    </tr>\n",
       "  </thead>\n",
       "  <tbody>\n",
       "    <tr>\n",
       "      <th>0</th>\n",
       "      <td>0</td>\n",
       "      <td>719</td>\n",
       "    </tr>\n",
       "    <tr>\n",
       "      <th>1</th>\n",
       "      <td>1</td>\n",
       "      <td>584</td>\n",
       "    </tr>\n",
       "    <tr>\n",
       "      <th>2</th>\n",
       "      <td>2</td>\n",
       "      <td>269</td>\n",
       "    </tr>\n",
       "    <tr>\n",
       "      <th>3</th>\n",
       "      <td>3</td>\n",
       "      <td>282</td>\n",
       "    </tr>\n",
       "    <tr>\n",
       "      <th>4</th>\n",
       "      <td>4</td>\n",
       "      <td>977</td>\n",
       "    </tr>\n",
       "    <tr>\n",
       "      <th>5</th>\n",
       "      <td>5</td>\n",
       "      <td>2752</td>\n",
       "    </tr>\n",
       "    <tr>\n",
       "      <th>6</th>\n",
       "      <td>6</td>\n",
       "      <td>5457</td>\n",
       "    </tr>\n",
       "    <tr>\n",
       "      <th>7</th>\n",
       "      <td>7</td>\n",
       "      <td>5036</td>\n",
       "    </tr>\n",
       "    <tr>\n",
       "      <th>8</th>\n",
       "      <td>8</td>\n",
       "      <td>5019</td>\n",
       "    </tr>\n",
       "    <tr>\n",
       "      <th>9</th>\n",
       "      <td>9</td>\n",
       "      <td>6525</td>\n",
       "    </tr>\n",
       "    <tr>\n",
       "      <th>10</th>\n",
       "      <td>10</td>\n",
       "      <td>7095</td>\n",
       "    </tr>\n",
       "    <tr>\n",
       "      <th>11</th>\n",
       "      <td>11</td>\n",
       "      <td>7405</td>\n",
       "    </tr>\n",
       "    <tr>\n",
       "      <th>12</th>\n",
       "      <td>12</td>\n",
       "      <td>8088</td>\n",
       "    </tr>\n",
       "    <tr>\n",
       "      <th>13</th>\n",
       "      <td>13</td>\n",
       "      <td>9308</td>\n",
       "    </tr>\n",
       "    <tr>\n",
       "      <th>14</th>\n",
       "      <td>14</td>\n",
       "      <td>10345</td>\n",
       "    </tr>\n",
       "    <tr>\n",
       "      <th>15</th>\n",
       "      <td>15</td>\n",
       "      <td>9661</td>\n",
       "    </tr>\n",
       "    <tr>\n",
       "      <th>16</th>\n",
       "      <td>16</td>\n",
       "      <td>8557</td>\n",
       "    </tr>\n",
       "    <tr>\n",
       "      <th>17</th>\n",
       "      <td>17</td>\n",
       "      <td>7159</td>\n",
       "    </tr>\n",
       "    <tr>\n",
       "      <th>18</th>\n",
       "      <td>18</td>\n",
       "      <td>6349</td>\n",
       "    </tr>\n",
       "    <tr>\n",
       "      <th>19</th>\n",
       "      <td>19</td>\n",
       "      <td>5081</td>\n",
       "    </tr>\n",
       "    <tr>\n",
       "      <th>20</th>\n",
       "      <td>20</td>\n",
       "      <td>3912</td>\n",
       "    </tr>\n",
       "    <tr>\n",
       "      <th>21</th>\n",
       "      <td>21</td>\n",
       "      <td>2262</td>\n",
       "    </tr>\n",
       "    <tr>\n",
       "      <th>22</th>\n",
       "      <td>22</td>\n",
       "      <td>1190</td>\n",
       "    </tr>\n",
       "    <tr>\n",
       "      <th>23</th>\n",
       "      <td>23</td>\n",
       "      <td>779</td>\n",
       "    </tr>\n",
       "  </tbody>\n",
       "</table>\n",
       "</div>"
      ],
      "text/plain": [
       "    timestamp  Count\n",
       "0           0    719\n",
       "1           1    584\n",
       "2           2    269\n",
       "3           3    282\n",
       "4           4    977\n",
       "5           5   2752\n",
       "6           6   5457\n",
       "7           7   5036\n",
       "8           8   5019\n",
       "9           9   6525\n",
       "10         10   7095\n",
       "11         11   7405\n",
       "12         12   8088\n",
       "13         13   9308\n",
       "14         14  10345\n",
       "15         15   9661\n",
       "16         16   8557\n",
       "17         17   7159\n",
       "18         18   6349\n",
       "19         19   5081\n",
       "20         20   3912\n",
       "21         21   2262\n",
       "22         22   1190\n",
       "23         23    779"
      ]
     },
     "execution_count": 30,
     "metadata": {},
     "output_type": "execute_result"
    }
   ],
   "source": [
    "count_by_hour"
   ]
  },
  {
   "cell_type": "code",
   "execution_count": 31,
   "id": "21b5d85b",
   "metadata": {},
   "outputs": [],
   "source": [
    "# Convert to string and make time format of hour and minutes\n",
    "count_by_hour['timestamp'] = count_by_hour['timestamp'].astype(str)\n",
    "count_by_hour['timestamp'] = count_by_hour['timestamp'] + \":00\""
   ]
  },
  {
   "cell_type": "code",
   "execution_count": 32,
   "id": "85080ff2",
   "metadata": {},
   "outputs": [],
   "source": [
    "# Calculate Average per hour\n",
    "count_by_hour['Count'] = count_by_hour['Count']/len(count_by_dates)"
   ]
  },
  {
   "cell_type": "code",
   "execution_count": 33,
   "id": "72f2aa21",
   "metadata": {},
   "outputs": [
    {
     "data": {
      "text/html": [
       "<div>\n",
       "<style scoped>\n",
       "    .dataframe tbody tr th:only-of-type {\n",
       "        vertical-align: middle;\n",
       "    }\n",
       "\n",
       "    .dataframe tbody tr th {\n",
       "        vertical-align: top;\n",
       "    }\n",
       "\n",
       "    .dataframe thead th {\n",
       "        text-align: right;\n",
       "    }\n",
       "</style>\n",
       "<table border=\"1\" class=\"dataframe\">\n",
       "  <thead>\n",
       "    <tr style=\"text-align: right;\">\n",
       "      <th></th>\n",
       "      <th>timestamp</th>\n",
       "      <th>Count</th>\n",
       "    </tr>\n",
       "  </thead>\n",
       "  <tbody>\n",
       "    <tr>\n",
       "      <th>0</th>\n",
       "      <td>0:00</td>\n",
       "      <td>28.76</td>\n",
       "    </tr>\n",
       "    <tr>\n",
       "      <th>1</th>\n",
       "      <td>1:00</td>\n",
       "      <td>23.36</td>\n",
       "    </tr>\n",
       "    <tr>\n",
       "      <th>2</th>\n",
       "      <td>2:00</td>\n",
       "      <td>10.76</td>\n",
       "    </tr>\n",
       "    <tr>\n",
       "      <th>3</th>\n",
       "      <td>3:00</td>\n",
       "      <td>11.28</td>\n",
       "    </tr>\n",
       "    <tr>\n",
       "      <th>4</th>\n",
       "      <td>4:00</td>\n",
       "      <td>39.08</td>\n",
       "    </tr>\n",
       "    <tr>\n",
       "      <th>5</th>\n",
       "      <td>5:00</td>\n",
       "      <td>110.08</td>\n",
       "    </tr>\n",
       "    <tr>\n",
       "      <th>6</th>\n",
       "      <td>6:00</td>\n",
       "      <td>218.28</td>\n",
       "    </tr>\n",
       "    <tr>\n",
       "      <th>7</th>\n",
       "      <td>7:00</td>\n",
       "      <td>201.44</td>\n",
       "    </tr>\n",
       "    <tr>\n",
       "      <th>8</th>\n",
       "      <td>8:00</td>\n",
       "      <td>200.76</td>\n",
       "    </tr>\n",
       "    <tr>\n",
       "      <th>9</th>\n",
       "      <td>9:00</td>\n",
       "      <td>261.00</td>\n",
       "    </tr>\n",
       "    <tr>\n",
       "      <th>10</th>\n",
       "      <td>10:00</td>\n",
       "      <td>283.80</td>\n",
       "    </tr>\n",
       "    <tr>\n",
       "      <th>11</th>\n",
       "      <td>11:00</td>\n",
       "      <td>296.20</td>\n",
       "    </tr>\n",
       "    <tr>\n",
       "      <th>12</th>\n",
       "      <td>12:00</td>\n",
       "      <td>323.52</td>\n",
       "    </tr>\n",
       "    <tr>\n",
       "      <th>13</th>\n",
       "      <td>13:00</td>\n",
       "      <td>372.32</td>\n",
       "    </tr>\n",
       "    <tr>\n",
       "      <th>14</th>\n",
       "      <td>14:00</td>\n",
       "      <td>413.80</td>\n",
       "    </tr>\n",
       "    <tr>\n",
       "      <th>15</th>\n",
       "      <td>15:00</td>\n",
       "      <td>386.44</td>\n",
       "    </tr>\n",
       "    <tr>\n",
       "      <th>16</th>\n",
       "      <td>16:00</td>\n",
       "      <td>342.28</td>\n",
       "    </tr>\n",
       "    <tr>\n",
       "      <th>17</th>\n",
       "      <td>17:00</td>\n",
       "      <td>286.36</td>\n",
       "    </tr>\n",
       "    <tr>\n",
       "      <th>18</th>\n",
       "      <td>18:00</td>\n",
       "      <td>253.96</td>\n",
       "    </tr>\n",
       "    <tr>\n",
       "      <th>19</th>\n",
       "      <td>19:00</td>\n",
       "      <td>203.24</td>\n",
       "    </tr>\n",
       "    <tr>\n",
       "      <th>20</th>\n",
       "      <td>20:00</td>\n",
       "      <td>156.48</td>\n",
       "    </tr>\n",
       "    <tr>\n",
       "      <th>21</th>\n",
       "      <td>21:00</td>\n",
       "      <td>90.48</td>\n",
       "    </tr>\n",
       "    <tr>\n",
       "      <th>22</th>\n",
       "      <td>22:00</td>\n",
       "      <td>47.60</td>\n",
       "    </tr>\n",
       "    <tr>\n",
       "      <th>23</th>\n",
       "      <td>23:00</td>\n",
       "      <td>31.16</td>\n",
       "    </tr>\n",
       "  </tbody>\n",
       "</table>\n",
       "</div>"
      ],
      "text/plain": [
       "   timestamp   Count\n",
       "0       0:00   28.76\n",
       "1       1:00   23.36\n",
       "2       2:00   10.76\n",
       "3       3:00   11.28\n",
       "4       4:00   39.08\n",
       "5       5:00  110.08\n",
       "6       6:00  218.28\n",
       "7       7:00  201.44\n",
       "8       8:00  200.76\n",
       "9       9:00  261.00\n",
       "10     10:00  283.80\n",
       "11     11:00  296.20\n",
       "12     12:00  323.52\n",
       "13     13:00  372.32\n",
       "14     14:00  413.80\n",
       "15     15:00  386.44\n",
       "16     16:00  342.28\n",
       "17     17:00  286.36\n",
       "18     18:00  253.96\n",
       "19     19:00  203.24\n",
       "20     20:00  156.48\n",
       "21     21:00   90.48\n",
       "22     22:00   47.60\n",
       "23     23:00   31.16"
      ]
     },
     "execution_count": 33,
     "metadata": {},
     "output_type": "execute_result"
    }
   ],
   "source": [
    "count_by_hour"
   ]
  },
  {
   "cell_type": "code",
   "execution_count": 34,
   "id": "0effc867",
   "metadata": {},
   "outputs": [
    {
     "data": {
      "image/png": "[encoded data removed]",
      "text/plain": [
       "<Figure size 1152x720 with 1 Axes>"
      ]
     },
     "metadata": {},
     "output_type": "display_data"
    }
   ],
   "source": [
    "# Avergae hourly Bar Plot\n",
    "plt.figure(figsize=(16,10))\n",
    "clrs = ['cornflowerblue' if (x < 250) else 'crimson' for x in count_by_hour['Count']]\n",
    "sns.set_style(\"darkgrid\", {\"axes.facecolor\": \".9\"})\n",
    "hours_plot = sns.barplot(x = count_by_hour['timestamp'], y=count_by_hour['Count'], data = count_by_hour, palette=clrs)\n",
    "plt.xticks(rotation=45,horizontalalignment='right',fontweight='light', fontsize = 20)\n",
    "plt.yticks(fontsize = 18)\n",
    "plt.xlabel('Hour',fontsize = 18)\n",
    "plt.ylabel('Actions per hour (avg)',fontsize = 18)\n",
    "plt.vlines(9,(count_by_hour.Count).iloc[9], (count_by_hour.Count).max()*1.1, color='black')\n",
    "plt.vlines(18,(count_by_hour.Count).iloc[18], (count_by_hour.Count).max()*1.1,color='black')\n",
    "plt.hlines(count_by_hour.Count.max()*1.05,9, 18,color='black',linestyle='dashed')\n",
    "plt.text(12.3, count_by_hour.Count.max()*1.06,'Peak Hours', fontsize=18, fontweight = 'bold')\n",
    "plt.show()\n",
    "hours_plot.figure.savefig('PerHour.jpg')"
   ]
  },
  {
   "cell_type": "code",
   "execution_count": 35,
   "id": "c2b34fdd",
   "metadata": {},
   "outputs": [],
   "source": [
    "max_action_hour = count_by_hour[count_by_hour['Count']==count_by_hour['Count'].max()]\n",
    "min_action_hour = count_by_hour[count_by_hour['Count']==count_by_hour['Count'].min()]"
   ]
  },
  {
   "cell_type": "code",
   "execution_count": 36,
   "id": "30aa55af",
   "metadata": {},
   "outputs": [
    {
     "name": "stdout",
     "output_type": "stream",
     "text": [
      "Max Actions:  413  at hour  14:00\n",
      "Min Actions:  10  at hour  2:00\n"
     ]
    }
   ],
   "source": [
    "print('Max Actions: ',int(max_action_hour['Count'].max()), ' at hour ',max_action_hour['timestamp'].max())\n",
    "print('Min Actions: ',int(min_action_hour['Count'].min()), ' at hour ',min_action_hour['timestamp'].min())"
   ]
  },
  {
   "cell_type": "code",
   "execution_count": 37,
   "id": "46e14183",
   "metadata": {},
   "outputs": [],
   "source": [
    "vendor_lock_type_counts = data['vendor_lock_type'].value_counts()"
   ]
  },
  {
   "cell_type": "code",
   "execution_count": 38,
   "id": "19ba014a",
   "metadata": {},
   "outputs": [
    {
     "data": {
      "text/plain": [
       "universal              80047\n",
       "danalock               29372\n",
       "zw_340_5_1              1056\n",
       "XS                       785\n",
       "masterlock               399\n",
       "codelockEasyAccess        91\n",
       "codelockYaleDoorman       55\n",
       "generic                   37\n",
       "codelockIDLock            13\n",
       "electric-lock              6\n",
       "zw_560_3_1                 4\n",
       "zw_270_9_1                 4\n",
       "zw_883_3_1                 2\n",
       "Name: vendor_lock_type, dtype: int64"
      ]
     },
     "execution_count": 38,
     "metadata": {},
     "output_type": "execute_result"
    }
   ],
   "source": [
    "vendor_lock_type_counts"
   ]
  },
  {
   "cell_type": "code",
   "execution_count": 39,
   "id": "681eb6c0",
   "metadata": {},
   "outputs": [
    {
     "name": "stdout",
     "output_type": "stream",
     "text": [
      "Universal Percentage:  0.7155294937919568\n",
      "danalock Percentage:  0.26255240410830333\n"
     ]
    }
   ],
   "source": [
    "print('Universal Percentage: ',vendor_lock_type_counts[0]/vendor_lock_type_counts.sum())\n",
    "print('danalock Percentage: ',vendor_lock_type_counts[1]/vendor_lock_type_counts.sum())"
   ]
  },
  {
   "cell_type": "code",
   "execution_count": 40,
   "id": "017074ff",
   "metadata": {},
   "outputs": [
    {
     "data": {
      "text/plain": [
       "universal              0.715529\n",
       "danalock               0.262552\n",
       "zw_340_5_1             0.009439\n",
       "XS                     0.007017\n",
       "masterlock             0.003567\n",
       "codelockEasyAccess     0.000813\n",
       "codelockYaleDoorman    0.000492\n",
       "generic                0.000331\n",
       "codelockIDLock         0.000116\n",
       "electric-lock          0.000054\n",
       "zw_560_3_1             0.000036\n",
       "zw_270_9_1             0.000036\n",
       "zw_883_3_1             0.000018\n",
       "Name: vendor_lock_type, dtype: float64"
      ]
     },
     "execution_count": 40,
     "metadata": {},
     "output_type": "execute_result"
    }
   ],
   "source": [
    "vendor_lock_type_counts/vendor_lock_type_counts.sum()"
   ]
  },
  {
   "cell_type": "code",
   "execution_count": 41,
   "id": "7017bb9f",
   "metadata": {},
   "outputs": [],
   "source": [
    "# dataframe for lock types\n",
    "df_lock_types = pd.DataFrame(vendor_lock_type_counts)"
   ]
  },
  {
   "cell_type": "code",
   "execution_count": 42,
   "id": "733139bc",
   "metadata": {},
   "outputs": [],
   "source": [
    "# Compile lock types with less percenatge to one entry for beter visualization\n",
    "df_lock_types.reset_index(inplace=True)\n",
    "df_lock_types = df_lock_types.rename(columns={\"index\": \"Lock_Type\", \"vendor_lock_type\": \"Count\"})\n",
    "df_lock_types.loc[(df_lock_types.Count < 2000),'Lock_Type']='Other'\n",
    "df_lock_types = df_lock_types.set_index('Lock_Type',drop=True)\n",
    "df_lock_types = df_lock_types.groupby(df_lock_types.index).sum()\n",
    "df_lock_types=df_lock_types.sort_values('Count', ascending=False)"
   ]
  },
  {
   "cell_type": "code",
   "execution_count": 43,
   "id": "0d1731ac",
   "metadata": {},
   "outputs": [
    {
     "data": {
      "text/html": [
       "<div>\n",
       "<style scoped>\n",
       "    .dataframe tbody tr th:only-of-type {\n",
       "        vertical-align: middle;\n",
       "    }\n",
       "\n",
       "    .dataframe tbody tr th {\n",
       "        vertical-align: top;\n",
       "    }\n",
       "\n",
       "    .dataframe thead th {\n",
       "        text-align: right;\n",
       "    }\n",
       "</style>\n",
       "<table border=\"1\" class=\"dataframe\">\n",
       "  <thead>\n",
       "    <tr style=\"text-align: right;\">\n",
       "      <th></th>\n",
       "      <th>Count</th>\n",
       "    </tr>\n",
       "    <tr>\n",
       "      <th>Lock_Type</th>\n",
       "      <th></th>\n",
       "    </tr>\n",
       "  </thead>\n",
       "  <tbody>\n",
       "    <tr>\n",
       "      <th>universal</th>\n",
       "      <td>80047</td>\n",
       "    </tr>\n",
       "    <tr>\n",
       "      <th>danalock</th>\n",
       "      <td>29372</td>\n",
       "    </tr>\n",
       "    <tr>\n",
       "      <th>Other</th>\n",
       "      <td>2452</td>\n",
       "    </tr>\n",
       "  </tbody>\n",
       "</table>\n",
       "</div>"
      ],
      "text/plain": [
       "           Count\n",
       "Lock_Type       \n",
       "universal  80047\n",
       "danalock   29372\n",
       "Other       2452"
      ]
     },
     "execution_count": 43,
     "metadata": {},
     "output_type": "execute_result"
    }
   ],
   "source": [
    "df_lock_types"
   ]
  },
  {
   "cell_type": "code",
   "execution_count": 44,
   "id": "c30ee713",
   "metadata": {},
   "outputs": [
    {
     "name": "stdout",
     "output_type": "stream",
     "text": [
      "71.55295014381409\n",
      "26.2552410364151\n",
      "2.1918101236224174\n"
     ]
    },
    {
     "data": {
      "image/png": "[encoded data removed]",
      "text/plain": [
       "<Figure size 720x504 with 1 Axes>"
      ]
     },
     "metadata": {},
     "output_type": "display_data"
    }
   ],
   "source": [
    "# PieChart for Lock Types\n",
    "wp = { 'linewidth' : 1, 'edgecolor' : \"green\" }\n",
    "\n",
    "# Creating explode data\n",
    "explode = (0.05, 0.05, 0.05)\n",
    "\n",
    "# Creating autocpt arguments\n",
    "def func(pct, allvalues):\n",
    "    absolute = int(pct / 100.*np.sum(allvalues))\n",
    "    print(pct)\n",
    "    return \"{:.1f}%\\n\".format(pct, absolute)\n",
    "\n",
    "           \n",
    "           \n",
    "\n",
    "# Creating plot\n",
    "fig, ax = plt.subplots(figsize =(10, 7))\n",
    "wedges, texts, autotexts = ax.pie(df_lock_types['Count'],\n",
    "\t\t\t\t\t\t\t\tautopct = lambda pct: func(pct, df_lock_types['Count']),\n",
    "\t\t\t\t\t\t\t\tshadow = True,\n",
    "\t\t\t\t\t\t\t\tstartangle = 90,\n",
    "                                  explode= explode,\n",
    "\t\t\t\t\t\t\t\twedgeprops = wp,\n",
    "\t\t\t\t\t\t\t\t)\n",
    "\n",
    "ax.legend(wedges, df_lock_types.index,\n",
    "\t\tloc =\"center left\",\n",
    "        fontsize = 15,\n",
    "\t\tbbox_to_anchor =(1, 0, 0.5, 1))\n",
    "\n",
    "plt.setp(autotexts, size = 14, weight =\"bold\")\n",
    "ax.set_title(\"Lock Types\",size = 20)\n",
    "\n",
    "# show plot\n",
    "plt.show()\n",
    "fig.savefig('lock_types.png')"
   ]
  },
  {
   "cell_type": "code",
   "execution_count": 45,
   "id": "5c825adf",
   "metadata": {},
   "outputs": [
    {
     "name": "stdout",
     "output_type": "stream",
     "text": [
      "Most Used Lock Type:  universal  with count:  80047\n",
      "Least Used Lock Type:  zw_883_3_1  with count:  2\n",
      "Known Lock Types: 111871\n",
      "Unknown Lock Types: 2981\n"
     ]
    }
   ],
   "source": [
    "print('Most Used Lock Type: ',vendor_lock_type_counts.index[0], ' with count: ' ,vendor_lock_type_counts[0])\n",
    "print('Least Used Lock Type: ',vendor_lock_type_counts.index[len(vendor_lock_type_counts)-1], ' with count: ' ,vendor_lock_type_counts[len(vendor_lock_type_counts)-1])\n",
    "print('Known Lock Types:', vendor_lock_type_counts.sum())\n",
    "print('Unknown Lock Types:', data['vendor_lock_type'].isna().sum())"
   ]
  },
  {
   "cell_type": "code",
   "execution_count": 46,
   "id": "76dba2a9",
   "metadata": {},
   "outputs": [
    {
     "data": {
      "text/plain": [
       "NO    72508\n",
       "SE      696\n",
       "Name: lock_country_iso, dtype: int64"
      ]
     },
     "execution_count": 46,
     "metadata": {},
     "output_type": "execute_result"
    }
   ],
   "source": [
    "# Lock Country data\n",
    "data['lock_country_iso'].value_counts()"
   ]
  },
  {
   "cell_type": "code",
   "execution_count": 47,
   "id": "4ef986f9",
   "metadata": {},
   "outputs": [
    {
     "data": {
      "text/plain": [
       "0575    3053\n",
       "0478    2884\n",
       "0661    2866\n",
       "0175    2564\n",
       "0196    2135\n",
       "        ... \n",
       "4521       1\n",
       "5610       1\n",
       "3612       1\n",
       "0266       1\n",
       "2953       1\n",
       "Name: lock_postal_code, Length: 251, dtype: int64"
      ]
     },
     "execution_count": 47,
     "metadata": {},
     "output_type": "execute_result"
    }
   ],
   "source": [
    "# Lock postal code data\n",
    "data['lock_postal_code'].value_counts()"
   ]
  },
  {
   "cell_type": "code",
   "execution_count": 48,
   "id": "9d287fa7",
   "metadata": {},
   "outputs": [
    {
     "name": "stdout",
     "output_type": "stream",
     "text": [
      "Unique Users:  8616\n"
     ]
    }
   ],
   "source": [
    "print('Unique Users: ', data['user_id'].nunique())"
   ]
  },
  {
   "cell_type": "code",
   "execution_count": 49,
   "id": "138a3290",
   "metadata": {},
   "outputs": [],
   "source": [
    "# User Counry data\n",
    "country_data = data['user_country_iso'].value_counts()"
   ]
  },
  {
   "cell_type": "code",
   "execution_count": 50,
   "id": "bb081f68",
   "metadata": {},
   "outputs": [
    {
     "data": {
      "text/plain": [
       "NO    0.979119\n",
       "SE    0.011908\n",
       "DK    0.002707\n",
       "FR    0.001485\n",
       "GB    0.001090\n",
       "IT    0.001028\n",
       "FI    0.000571\n",
       "DE    0.000404\n",
       "IS    0.000378\n",
       "US    0.000360\n",
       "CZ    0.000281\n",
       "BE    0.000255\n",
       "ES    0.000211\n",
       "PL    0.000088\n",
       "NL    0.000062\n",
       "CH    0.000026\n",
       "EE    0.000026\n",
       "Name: user_country_iso, dtype: float64"
      ]
     },
     "execution_count": 50,
     "metadata": {},
     "output_type": "execute_result"
    }
   ],
   "source": [
    "# Percentage of users by country\n",
    "country_data/ country_data.sum()"
   ]
  },
  {
   "cell_type": "code",
   "execution_count": 51,
   "id": "6aaa0683",
   "metadata": {},
   "outputs": [
    {
     "name": "stdout",
     "output_type": "stream",
     "text": [
      "Total Countries:  17\n"
     ]
    }
   ],
   "source": [
    "print('Total Countries: ', data['user_country_iso'].nunique())"
   ]
  },
  {
   "cell_type": "code",
   "execution_count": 52,
   "id": "5a23f3a8",
   "metadata": {},
   "outputs": [
    {
     "name": "stdout",
     "output_type": "stream",
     "text": [
      "iOS        87740\n",
      "android    26050\n",
      "Name: device_platform, dtype: int64\n"
     ]
    }
   ],
   "source": [
    "device_type_count = data['device_platform'].value_counts()\n",
    "print(device_type_count)"
   ]
  },
  {
   "cell_type": "code",
   "execution_count": 53,
   "id": "5121c378",
   "metadata": {},
   "outputs": [
    {
     "name": "stdout",
     "output_type": "stream",
     "text": [
      "IOS Percentage:  0.7710695140170489\n"
     ]
    }
   ],
   "source": [
    "print('IOS Percentage: ', device_type_count[0]/data['device_platform'].value_counts().sum())"
   ]
  },
  {
   "cell_type": "code",
   "execution_count": 54,
   "id": "5aa64fc8",
   "metadata": {},
   "outputs": [
    {
     "name": "stdout",
     "output_type": "stream",
     "text": [
      "77.10695266723633\n",
      "22.89304882287979\n"
     ]
    },
    {
     "data": {
      "image/png": "[encoded data removed]",
      "text/plain": [
       "<Figure size 720x504 with 1 Axes>"
      ]
     },
     "metadata": {},
     "output_type": "display_data"
    }
   ],
   "source": [
    "# Pie Chart of device type\n",
    "wp = { 'linewidth' : 1, 'edgecolor' : \"green\" }\n",
    "\n",
    "\n",
    "\n",
    "# Creating autocpt arguments\n",
    "def func(pct, allvalues):\n",
    "    absolute = int(pct / 100.*np.sum(allvalues))\n",
    "    print(pct)\n",
    "    return \"{:.1f}%\\n\".format(pct, absolute)\n",
    "\n",
    "           \n",
    "           \n",
    "\n",
    "# Creating plot\n",
    "fig, ax = plt.subplots(figsize =(10, 7))\n",
    "wedges, texts, autotexts = ax.pie(device_type_count,\n",
    "\t\t\t\t\t\t\t\tautopct = lambda pct: func(pct, device_type_count),\n",
    "\t\t\t\t\t\t\t\tshadow = True,\n",
    "\t\t\t\t\t\t\t\tstartangle = 90,\n",
    "\t\t\t\t\t\t\t\twedgeprops = wp,\n",
    "\t\t\t\t\t\t\t\t)\n",
    "\n",
    "ax.legend(wedges, device_type_count.index,\n",
    "\t\tloc =\"center left\",\n",
    "        fontsize = 15,\n",
    "\t\tbbox_to_anchor =(1, 0, 0.5, 1))\n",
    "\n",
    "plt.setp(autotexts, size = 14, weight =\"bold\")\n",
    "ax.set_title(\"Device Types\",size = 20)\n",
    "\n",
    "# show plot\n",
    "plt.show()\n",
    "fig.savefig('device_type.png')"
   ]
  },
  {
   "cell_type": "code",
   "execution_count": 55,
   "id": "7e4835a6",
   "metadata": {},
   "outputs": [
    {
     "data": {
      "text/plain": [
       "Unloc 4.6.4 (988)     45081\n",
       "Unloc 4.6.2 (950)     25139\n",
       "Unloc 4.6.3 (972)     22202\n",
       "Unloc 4.6.3 (970)      6786\n",
       "Unloc 4.6.5 (994)      6456\n",
       "Unloc 4.5.9 (904)      2879\n",
       "Unloc 4.5.10 (906)     2782\n",
       "Unloc 4.6.0 (932)      1343\n",
       "Unloc 4.6.1 (938)       773\n",
       "Unloc 4.6.4 (984)       101\n",
       "Unloc 4.6.6 (996)        68\n",
       "Unloc 4.6.5 (992)        54\n",
       "Unloc 4.6.4 (982)        28\n",
       "Unloc 4.6.4 (986)        20\n",
       "Unloc 4.6.6 (998)        13\n",
       "Unloc 4.6.3 (962)        13\n",
       "Unloc 4.6.5 (990)        13\n",
       "Unloc 4.6.4 (980)        12\n",
       "Unloc 4.6.2 (948)         9\n",
       "Unloc 4.6.7 (1010)        7\n",
       "Unloc 4.6.4 (976)         5\n",
       "Unloc 4.3.5 (370)         3\n",
       "Unloc 4.6.9 (1036)        2\n",
       "Unloc 4.5.8 (900)         1\n",
       "Name: device_app_version, dtype: int64"
      ]
     },
     "execution_count": 55,
     "metadata": {},
     "output_type": "execute_result"
    }
   ],
   "source": [
    "# App Versions\n",
    "data['device_app_version'].value_counts()"
   ]
  },
  {
   "cell_type": "code",
   "execution_count": 57,
   "id": "ec317965",
   "metadata": {},
   "outputs": [
    {
     "name": "stdout",
     "output_type": "stream",
     "text": [
      "cooperative        62822\n",
      "lockholder         14458\n",
      "propertymanager     7125\n",
      "office              5610\n",
      "coworking           3114\n",
      "Name: lock_holder_type, dtype: int64\n"
     ]
    }
   ],
   "source": [
    "# Lock Holder Types\n",
    "lock_holder_type = data['lock_holder_type'].value_counts()\n",
    "print(lock_holder_type)"
   ]
  },
  {
   "cell_type": "code",
   "execution_count": 58,
   "id": "9c608d39",
   "metadata": {},
   "outputs": [
    {
     "data": {
      "text/plain": [
       "cooperative        0.674570\n",
       "lockholder         0.155247\n",
       "propertymanager    0.076507\n",
       "office             0.060239\n",
       "coworking          0.033437\n",
       "Name: lock_holder_type, dtype: float64"
      ]
     },
     "execution_count": 58,
     "metadata": {},
     "output_type": "execute_result"
    }
   ],
   "source": [
    "lock_holder_type/lock_holder_type.sum()"
   ]
  },
  {
   "cell_type": "code",
   "execution_count": 59,
   "id": "e93512e1",
   "metadata": {},
   "outputs": [
    {
     "name": "stdout",
     "output_type": "stream",
     "text": [
      "67.45696663856506\n",
      "15.52470177412033\n",
      "7.650677859783173\n",
      "6.02390244603157\n",
      "3.3437490463256836\n"
     ]
    },
    {
     "data": {
      "image/png": "[encoded data removed]",
      "text/plain": [
       "<Figure size 720x504 with 1 Axes>"
      ]
     },
     "metadata": {},
     "output_type": "display_data"
    }
   ],
   "source": [
    "# Pie Char Lock holder types\n",
    "wp = { 'linewidth' : 1, 'edgecolor' : \"green\" }\n",
    "\n",
    "# Creating explode data\n",
    "explode = (0.05, 0.05, 0.05, 0.05, 0.05)\n",
    "\n",
    "# Creating autocpt arguments\n",
    "def func(pct, allvalues):\n",
    "    absolute = int(pct / 100.*np.sum(allvalues))\n",
    "    print(pct)\n",
    "    return \"{:.1f}%\\n\".format(pct, absolute)\n",
    "\n",
    "           \n",
    "           \n",
    "\n",
    "# Creating plot\n",
    "fig, ax = plt.subplots(figsize =(10, 7))\n",
    "wedges, texts, autotexts = ax.pie(lock_holder_type,\n",
    "\t\t\t\t\t\t\t\tautopct = lambda pct: func(pct, lock_holder_type),\n",
    "\t\t\t\t\t\t\t\tshadow = True,\n",
    "\t\t\t\t\t\t\t\tstartangle = 90,\n",
    "                                  explode= explode,\n",
    "\t\t\t\t\t\t\t\twedgeprops = wp,\n",
    "\t\t\t\t\t\t\t\t)\n",
    "\n",
    "ax.legend(wedges, lock_holder_type.index,\n",
    "\t\tloc =\"center left\",\n",
    "        fontsize = 15,\n",
    "\t\tbbox_to_anchor =(1, 0, 0.5, 1))\n",
    "\n",
    "plt.setp(autotexts, size = 14, weight =\"bold\")\n",
    "ax.set_title(\"Lock Holder Types\",size = 20)\n",
    "\n",
    "# show plot\n",
    "plt.show()\n",
    "fig.savefig('lockholdertypes_type.png')"
   ]
  },
  {
   "cell_type": "code",
   "execution_count": 60,
   "id": "099a0e5d",
   "metadata": {},
   "outputs": [
    {
     "data": {
      "text/plain": [
       "nb_NO    86735\n",
       "en_NO    10148\n",
       "en_GB     3745\n",
       "en_US     2635\n",
       "sv_SE     1638\n",
       "         ...  \n",
       "bs_NO        1\n",
       "nb_AT        1\n",
       "en_EE        1\n",
       "it_GB        1\n",
       "nb_PT        1\n",
       "Name: device_locale, Length: 131, dtype: int64"
      ]
     },
     "execution_count": 60,
     "metadata": {},
     "output_type": "execute_result"
    }
   ],
   "source": [
    "data['device_locale'].value_counts()"
   ]
  }
 ],
 "metadata": {
  "kernelspec": {
   "display_name": "Python 3",
   "language": "python",
   "name": "python3"
  },
  "language_info": {
   "codemirror_mode": {
    "name": "ipython",
    "version": 3
   },
   "file_extension": ".py",
   "mimetype": "text/x-python",
   "name": "python",
   "nbconvert_exporter": "python",
   "pygments_lexer": "ipython3",
   "version": "3.9.5"
  }
 },
 "nbformat": 4,
 "nbformat_minor": 5
}
